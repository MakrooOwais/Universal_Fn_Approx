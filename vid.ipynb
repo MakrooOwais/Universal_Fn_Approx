{
 "cells": [
  {
   "cell_type": "code",
   "execution_count": 4,
   "metadata": {},
   "outputs": [],
   "source": [
    "import cv2\n",
    "import numpy as np\n",
    "import os\n",
    "\n",
    "img_array = []\n",
    "\n",
    "for filename in sorted(os.listdir(\"outputs\"), key=lambda x: int(x[4:-4])):\n",
    "    img = cv2.imread(\"outputs/\" + filename)\n",
    "    height, width, layers = img.shape\n",
    "    size = (width, height)\n",
    "    img_array.append(img)"
   ]
  },
  {
   "cell_type": "code",
   "execution_count": 5,
   "metadata": {},
   "outputs": [],
   "source": [
    "out = cv2.VideoWriter(\"video.mp4\", cv2.VideoWriter_fourcc(*\"DIVX\"), 15, size)\n",
    "n = len(img_array)\n",
    "\n",
    "for i in range(0, 2000, 25):\n",
    "    out.write(img_array[i])\n",
    "    \n",
    "for i in range(2000, 10000, 100):\n",
    "    out.write(img_array[i])\n",
    "    \n",
    "out.release()"
   ]
  },
  {
   "cell_type": "code",
   "execution_count": null,
   "metadata": {},
   "outputs": [],
   "source": []
  },
  {
   "cell_type": "code",
   "execution_count": null,
   "metadata": {},
   "outputs": [],
   "source": []
  }
 ],
 "metadata": {
  "kernelspec": {
   "display_name": "research_project",
   "language": "python",
   "name": "python3"
  },
  "language_info": {
   "codemirror_mode": {
    "name": "ipython",
    "version": 3
   },
   "file_extension": ".py",
   "mimetype": "text/x-python",
   "name": "python",
   "nbconvert_exporter": "python",
   "pygments_lexer": "ipython3",
   "version": "3.11.5"
  }
 },
 "nbformat": 4,
 "nbformat_minor": 2
}
